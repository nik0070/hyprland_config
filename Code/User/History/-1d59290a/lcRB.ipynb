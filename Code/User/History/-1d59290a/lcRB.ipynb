{
 "cells": [
  {
   "cell_type": "code",
   "execution_count": 1,
   "metadata": {},
   "outputs": [
    {
     "name": "stdout",
     "output_type": "stream",
     "text": [
      "2333606220\n"
     ]
    }
   ],
   "source": [
    "# def gridtraveller(a, b):\n",
    "#     if a == 0 or b == 0:\n",
    "#         return 0 \n",
    "#     if a == 1 and b == 1:\n",
    "#         return 1 \n",
    "#     return gridtraveller(a-1, b) + gridtraveller(a, b-1)\n",
    "\n",
    "# out = gridtraveller(2, 3)\n",
    "# print(f'out: {out}')\n",
    "\n",
    "\n",
    "def gridtraveller(a, b, memo={}):\n",
    "    key = f'{a},{b}'\n",
    "    if key in memo.keys():\n",
    "        return memo[key]\n",
    "    if a == 0 or b == 0:\n",
    "        return 0 \n",
    "    if a == 1 and b == 1:\n",
    "        return 1 \n",
    "    memo[key] = gridtraveller(a - 1, b) + gridtraveller(a, b - 1)\n",
    "    return memo[key]\n",
    "\n",
    "out = gridtraveller(18,18)\n",
    "print(out)"
   ]
  },
  {
   "cell_type": "code",
   "execution_count": null,
   "metadata": {},
   "outputs": [],
   "source": []
  }
 ],
 "metadata": {
  "kernelspec": {
   "display_name": "jupyter_env",
   "language": "python",
   "name": "python3"
  },
  "language_info": {
   "codemirror_mode": {
    "name": "ipython",
    "version": 3
   },
   "file_extension": ".py",
   "mimetype": "text/x-python",
   "name": "python",
   "nbconvert_exporter": "python",
   "pygments_lexer": "ipython3",
   "version": "3.13.1"
  }
 },
 "nbformat": 4,
 "nbformat_minor": 2
}
